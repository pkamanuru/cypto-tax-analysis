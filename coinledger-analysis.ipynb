{
 "cells": [
  {
   "cell_type": "code",
   "execution_count": 17,
   "metadata": {},
   "outputs": [
    {
     "name": "stdout",
     "output_type": "stream",
     "text": [
      "Timestamp (UTC)     object\n",
      "Type                object\n",
      "Internal Id          int64\n",
      "Platform            object\n",
      "Platform Id        float64\n",
      "Blockchain Id       object\n",
      "Record Type         object\n",
      "Asset               object\n",
      "Amount             float64\n",
      "Description        float64\n",
      "dtype: object\n",
      "0.0 0.08 128.98\n",
      "0.0 0.92 128.98\n",
      "0.0 1.0 128.98\n",
      "6.42100000011413 5.0 89.25\n",
      "7.89000000011413 3.531 88.51\n",
      "10.05400000011413 1.367 88.51\n",
      "6.31900000011413 5.102 88.50999999999999\n",
      "1.4210000001141303 10.0 87.0\n",
      "6.42100000011413 5.0 87.0\n",
      "2.1100000001141304 9.311 86.35000000000001\n",
      "9.221000000114131 2.2 86.34\n",
      "0.0 11.42100000011413 86.31\n",
      "0.0 11.42897101900432 86.31\n",
      "[0.08, 0.92, 1.0, 11.42100000011413, 11.42897101900432]\n"
     ]
    }
   ],
   "source": [
    "import pandas as pd\n",
    "df = pd.read_csv(r'Transactions.csv')\n",
    "print(df.dtypes)\n",
    "# Avax Fiat Buys\n",
    "avax_buy = df[(df[\"Type\"] == \"Fiat Buy\") & (df[\"Asset\"] == \"AVAX\")]\n",
    "# Avax Fiat Buy Cost Basis\n",
    "avax_buy_usd = df[(df['Internal Id'].isin(avax_buy[\"Internal Id\"])) \n",
    "                  & (df['Asset'] == 'USD') \n",
    "                  & (df['Record Type'] == 'Debit')]\n",
    "\n",
    "no_of_avax_tokens = avax_buy['Amount'].to_list()\n",
    "cost_of_avax_tokens = avax_buy_usd['Amount'].to_list()\n",
    "cost_basis_per_token = [-cost/no for (cost, no) in zip(cost_of_avax_tokens, no_of_avax_tokens)]\n",
    "#print(cost_basis_per_token)\n",
    "assert len(no_of_avax_tokens) == len(cost_of_avax_tokens) == len(cost_basis_per_token)\n",
    "\n",
    "avax_token_cost_hifo_list = [(no,cost) for cost, no in sorted(zip(cost_basis_per_token, no_of_avax_tokens), reverse=True)]\n",
    "\n",
    "# Avax Fiat Sells\n",
    "avax_sell = -df[((df[\"Type\"] == \"Fiat Sell\") | (df[\"Type\"] == \"Trade\")) & (df[\"Asset\"] == \"AVAX\")]['Amount']\n",
    "avax_sell = avax_sell.to_list()\n",
    "avax_sell_i = 0\n",
    "avax_hifo_i = 0\n",
    "\n",
    "while avax_sell_i < len(avax_sell):\n",
    "    cur_sell_avax_tokens = avax_sell[avax_sell_i]\n",
    "    cur_sell_avax_tokens_copy = cur_sell_avax_tokens\n",
    "    cur_buy_avax_tokens, cur_price = avax_token_cost_hifo_list[avax_hifo_i] \n",
    "\n",
    "    cur_min = min(cur_sell_avax_tokens, cur_buy_avax_tokens)\n",
    "\n",
    "    cur_sell_avax_tokens -= cur_min\n",
    "    cur_buy_avax_tokens -= cur_min\n",
    "\n",
    "    if cur_sell_avax_tokens == 0:\n",
    "        avax_sell_i += 1\n",
    "    if cur_buy_avax_tokens == 0:\n",
    "        avax_hifo_i += 1\n",
    "    \n",
    "    # Record Cost Basis Transaction\n",
    "    print(cur_sell_avax_tokens_copy, cur_min, cur_price)\n"
   ]
  }
 ],
 "metadata": {
  "kernelspec": {
   "display_name": "Python 3",
   "language": "python",
   "name": "python3"
  },
  "language_info": {
   "codemirror_mode": {
    "name": "ipython",
    "version": 3
   },
   "file_extension": ".py",
   "mimetype": "text/x-python",
   "name": "python",
   "nbconvert_exporter": "python",
   "pygments_lexer": "ipython3",
   "version": "3.10.6"
  },
  "orig_nbformat": 4
 },
 "nbformat": 4,
 "nbformat_minor": 2
}
